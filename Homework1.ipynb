{
 "cells": [
  {
   "cell_type": "code",
   "execution_count": null,
   "id": "567976d7-6847-4095-9f84-89ce7e9c2d79",
   "metadata": {},
   "outputs": [],
   "source": [
    "## ДЗ\n",
    "1.\n",
    "Создайте абстрактный класс `Shape`, который содержит метод `area()` для вычисления площади. Реализуйте два класса-наследника `Circle` и `Rectangle`, которые реализуют метод `area()`.\n",
    "\n",
    "    Рассчитайте площадь круга и прямоугольника, используя созданные классы.\n"
   ]
  },
  {
   "cell_type": "code",
   "execution_count": 13,
   "id": "252d222f-e912-4dbf-a2d2-13bd03bcc09b",
   "metadata": {},
   "outputs": [
    {
     "name": "stdin",
     "output_type": "stream",
     "text": [
      "Введите радиус круга:  2\n",
      "Введите длину прямоугольника:  2\n",
      "Введите ширину прямоугольника:  3\n"
     ]
    },
    {
     "name": "stdout",
     "output_type": "stream",
     "text": [
      "Площадь круга: 12.566370614359172\n",
      "Площадь прямоугольника: 6.0\n"
     ]
    }
   ],
   "source": [
    "from abc import ABC, abstractmethod\n",
    "import math\n",
    "\n",
    "class Shape(ABC):\n",
    "    @abstractmethod\n",
    "    def area(self):\n",
    "        pass\n",
    "\n",
    "class Circle(Shape):\n",
    "    def __init__(self, radius):\n",
    "        self.radius = radius\n",
    "\n",
    "    def area(self):\n",
    "        return math.pi * self.radius ** 2\n",
    "\n",
    "class Rectangle(Shape):\n",
    "    def __init__(self, length, width):\n",
    "        self.length = length\n",
    "        self.width = width\n",
    "\n",
    "    def area(self):\n",
    "        return self.length * self.width\n",
    "\n",
    "\n",
    "rad = float(input(\"Введите радиус круга: \"))\n",
    "circle = Circle(rad)\n",
    "\n",
    "l = float(input(\"Введите длину прямоугольника: \"))\n",
    "w = float(input(\"Введите ширину прямоугольника: \"))\n",
    "rectangle = Rectangle(l, w)\n",
    "\n",
    "print(\"Площадь круга:\", circle.area())\n",
    "print(\"Площадь прямоугольника:\", rectangle.area())\n"
   ]
  },
  {
   "cell_type": "code",
   "execution_count": null,
   "id": "fadb5dee-cafa-4dc5-8fcb-c9ad5764c30d",
   "metadata": {},
   "outputs": [],
   "source": [
    "##############################3"
   ]
  },
  {
   "cell_type": "code",
   "execution_count": null,
   "id": "ec286f7f-0445-43ae-a894-d911a3bd1efb",
   "metadata": {},
   "outputs": [],
   "source": [
    "## ДЗ\n",
    "Создайте датакласс `Employee`, который содержит поля `name`, `age`, `position`, и `salary`. Добавьте в класс метод для увеличения зарплаты на заданный процент.\n",
    "\n",
    "   Создайте несколько объектов класса `Employee` и увеличьте зарплату каждому из них."
   ]
  },
  {
   "cell_type": "code",
   "execution_count": 16,
   "id": "db2b3349-538c-49a4-9864-84f5191ebaf8",
   "metadata": {},
   "outputs": [
    {
     "name": "stdout",
     "output_type": "stream",
     "text": [
      "Текущая зарплата сотрудника: \"Иван Иванов\" - 90000\n",
      "Текущая зарплата сотрудника: \"Мария Петрова\" - 60000\n"
     ]
    },
    {
     "name": "stdin",
     "output_type": "stream",
     "text": [
      "На сколько увеличим зарплату Ивану?  10\n",
      "На сколько увеличим зарплату Марии?  32\n"
     ]
    },
    {
     "name": "stdout",
     "output_type": "stream",
     "text": [
      "Обновленная зарплата сотрудника: \"Иван Иванов\" - 99000.0\n",
      "Обновленная зарплата сотрудника: \"Мария Петрова\" - 79200.0\n"
     ]
    }
   ],
   "source": [
    "from dataclasses import dataclass\n",
    "\n",
    "@dataclass\n",
    "class Employee:\n",
    "    name: str\n",
    "    age: int\n",
    "    position: str\n",
    "    salary: float\n",
    "\n",
    "    def increase_salary(self, percentage):\n",
    "        self.salary += self.salary * (percentage / 100)\n",
    "\n",
    "# Создаем несколько объектов класса Employee\n",
    "employee1 = Employee(\"Иван Иванов\", 30, \"Программист\", 90000)\n",
    "employee2 = Employee(\"Мария Петрова\", 28, \"Аналитик данных\", 60000)\n",
    "\n",
    "print(f\"Текущая зарплата сотрудника: \\\"{employee1.name}\\\" - {employee1.salary}\")\n",
    "print(f\"Текущая зарплата сотрудника: \\\"{employee2.name}\\\" - {employee2.salary}\")\n",
    "\n",
    "pr1 = float(input(\"На сколько процентов увеличим зарплату Ивану? \"))\n",
    "pr2 = float(input(\"На сколько процентов увеличим зарплату Марии? \"))\n",
    "\n",
    "employee1.increase_salary(pr1)\n",
    "employee2.increase_salary(pr2)\n",
    "\n",
    "# Выводим обновленные зарплаты\n",
    "print(f\"Обновленная зарплата сотрудника: \\\"{employee1.name}\\\" - {employee1.salary}\")\n",
    "print(f\"Обновленная зарплата сотрудника: \\\"{employee2.name}\\\" - {employee2.salary}\")"
   ]
  },
  {
   "cell_type": "code",
   "execution_count": null,
   "id": "f439a3b8-aa08-4243-9fa4-02a8723e6e81",
   "metadata": {},
   "outputs": [],
   "source": [
    "#######################################"
   ]
  },
  {
   "cell_type": "code",
   "execution_count": null,
   "id": "06c142ef-1f45-4d9b-90c3-082e51b6986d",
   "metadata": {},
   "outputs": [],
   "source": [
    "## ДЗ\n",
    "    1. Создайте класс `Student`, который имеет атрибуты: имя, возраст и курс.\n",
    "    2. Реализуйте метод `introduce`, который выводит информацию о студенте.\n",
    "    3. Модифицируйте класс `Student`, чтобы атрибуты \"возраст\" и \"курс\" были приватными, и добавьте методы для безопасного изменения и получения этих данных."
   ]
  },
  {
   "cell_type": "code",
   "execution_count": 23,
   "id": "ea8f4435-9452-4a31-a1b4-e0b526d639fb",
   "metadata": {},
   "outputs": [
    {
     "name": "stdout",
     "output_type": "stream",
     "text": [
      "Имя: Алексей, возраст: 22, курс: Тестировщик\n",
      "Поле недоступно\n",
      "Имя: Алексей, возраст: 23, курс: DevOps-инженер\n"
     ]
    }
   ],
   "source": [
    "class Student:\n",
    "    def __init__(self, name, age, course):\n",
    "        self.name = name\n",
    "        self.__age = age\n",
    "        self.__course = course\n",
    "\n",
    "    def introduce(self):\n",
    "        print(f\"Имя: {self.name}, возраст: {self.__age}, курс: {self.__course}\")\n",
    "\n",
    "    def set_age(self, age):\n",
    "        self.__age = age\n",
    "\n",
    "    def get_age(self):\n",
    "        return self.__age\n",
    "\n",
    "    def set_course(self, course):\n",
    "        self.__course = course\n",
    "\n",
    "    def get_course(self):\n",
    "        return self.__course\n",
    "\n",
    "# Example usage\n",
    "student = Student(\"Алексей\", 22, \"Тестировщик\")\n",
    "student.introduce()\n",
    "\n",
    "try:{\n",
    "    print(\"Возраст: \" + student.__age)\n",
    "}\n",
    "except: {\n",
    "    print(\"Поле недоступно\")\n",
    "}\n",
    "\n",
    "student.set_age(23)\n",
    "student.set_course(\"DevOps-инженер\")\n",
    "student.introduce()"
   ]
  }
 ],
 "metadata": {
  "kernelspec": {
   "display_name": "Python 3 (ipykernel)",
   "language": "python",
   "name": "python3"
  },
  "language_info": {
   "codemirror_mode": {
    "name": "ipython",
    "version": 3
   },
   "file_extension": ".py",
   "mimetype": "text/x-python",
   "name": "python",
   "nbconvert_exporter": "python",
   "pygments_lexer": "ipython3",
   "version": "3.13.0"
  }
 },
 "nbformat": 4,
 "nbformat_minor": 5
}
